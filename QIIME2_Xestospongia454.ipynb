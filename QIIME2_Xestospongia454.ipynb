{
 "cells": [
  {
   "cell_type": "code",
   "execution_count": null,
   "metadata": {},
   "outputs": [],
   "source": [
    "!qiime metadata tabulate --m-input-file xesto454_metadata.tsv --o-visualization tabulated-xestospongia454-metadata.qzv\n"
   ]
  },
  {
   "cell_type": "code",
   "execution_count": null,
   "metadata": {},
   "outputs": [],
   "source": [
    "!unzip tabulated-xestospongia454-metadata.qzv"
   ]
  },
  {
   "cell_type": "code",
   "execution_count": null,
   "metadata": {},
   "outputs": [],
   "source": [
    "!mkdir xesto_reads"
   ]
  },
  {
   "cell_type": "code",
   "execution_count": 2,
   "metadata": {},
   "outputs": [
    {
     "name": "stdout",
     "output_type": "stream",
     "text": [
      "\u001b[32mImported xesto_454manifest.txt as SingleEndFastqManifestPhred33 to xesto_reads/reads.qza\u001b[0m\r\n"
     ]
    }
   ],
   "source": [
    "!qiime tools import --input-path xesto_454manifest.txt --type SampleData[SequencesWithQuality] --output-path xesto_reads/reads.qza --input-format SingleEndFastqManifestPhred33 "
   ]
  },
  {
   "cell_type": "code",
   "execution_count": 1,
   "metadata": {},
   "outputs": [
    {
     "name": "stdout",
     "output_type": "stream",
     "text": [
      "AlignedDNAFASTAFormat\r\n",
      "AlignedDNASequencesDirectoryFormat\r\n",
      "AlphaDiversityDirectoryFormat\r\n",
      "AlphaDiversityFormat\r\n",
      "BIOMV100DirFmt\r\n",
      "BIOMV100Format\r\n",
      "BIOMV210DirFmt\r\n",
      "BIOMV210Format\r\n",
      "BooleanSeriesDirectoryFormat\r\n",
      "BooleanSeriesFormat\r\n",
      "Bowtie2IndexDirFmt\r\n",
      "CasavaOneEightLanelessPerSampleDirFmt\r\n",
      "CasavaOneEightSingleLanePerSampleDirFmt\r\n",
      "DADA2StatsDirFmt\r\n",
      "DADA2StatsFormat\r\n",
      "DNAFASTAFormat\r\n",
      "DNASequencesDirectoryFormat\r\n",
      "DeblurStatsDirFmt\r\n",
      "DeblurStatsFmt\r\n",
      "DistanceMatrixDirectoryFormat\r\n",
      "EMPPairedEndCasavaDirFmt\r\n",
      "EMPPairedEndDirFmt\r\n",
      "EMPSingleEndCasavaDirFmt\r\n",
      "EMPSingleEndDirFmt\r\n",
      "ErrorCorrectionDetailsDirFmt\r\n",
      "FastqGzFormat\r\n",
      "FirstDifferencesDirectoryFormat\r\n",
      "FirstDifferencesFormat\r\n",
      "HeaderlessTSVTaxonomyDirectoryFormat\r\n",
      "HeaderlessTSVTaxonomyFormat\r\n",
      "ImportanceDirectoryFormat\r\n",
      "ImportanceFormat\r\n",
      "LSMatFormat\r\n",
      "MultiplexedPairedEndBarcodeInSequenceDirFmt\r\n",
      "MultiplexedSingleEndBarcodeInSequenceDirFmt\r\n",
      "NewickDirectoryFormat\r\n",
      "NewickFormat\r\n",
      "OrdinationDirectoryFormat\r\n",
      "OrdinationFormat\r\n",
      "PairedDNASequencesDirectoryFormat\r\n",
      "PairedEndFastqManifestPhred33\r\n",
      "PairedEndFastqManifestPhred33V2\r\n",
      "PairedEndFastqManifestPhred64\r\n",
      "PairedEndFastqManifestPhred64V2\r\n",
      "PlacementsDirFmt\r\n",
      "PlacementsFormat\r\n",
      "PredictionsDirectoryFormat\r\n",
      "PredictionsFormat\r\n",
      "QIIME1DemuxDirFmt\r\n",
      "QIIME1DemuxFormat\r\n",
      "QualityFilterStatsDirFmt\r\n",
      "QualityFilterStatsFmt\r\n",
      "SampleEstimatorDirFmt\r\n",
      "SingleEndFastqManifestPhred33\r\n",
      "SingleEndFastqManifestPhred33V2\r\n",
      "SingleEndFastqManifestPhred64\r\n",
      "SingleEndFastqManifestPhred64V2\r\n",
      "SingleLanePerSamplePairedEndFastqDirFmt\r\n",
      "SingleLanePerSampleSingleEndFastqDirFmt\r\n",
      "TSVTaxonomyDirectoryFormat\r\n",
      "TSVTaxonomyFormat\r\n",
      "TaxonomicClassiferTemporaryPickleDirFmt\r\n",
      "UchimeStatsDirFmt\r\n",
      "UchimeStatsFmt\r\n"
     ]
    }
   ],
   "source": [
    "!qiime tools import --show-importable-formats\n"
   ]
  },
  {
   "cell_type": "code",
   "execution_count": 3,
   "metadata": {},
   "outputs": [
    {
     "name": "stdout",
     "output_type": "stream",
     "text": [
      "Running external command line application(s). This may print messages to stdout and/or stderr.\n",
      "The command(s) being run are below. These commands cannot be manually re-run as they will depend on temporary files that no longer exist.\n",
      "\n",
      "Command: run_dada_single.R /var/folders/fw/yb0rznbj5r78cndxr6lkzkv80000gn/T/qiime2-archive-e5m3trpc/51137c05-0a3a-4718-bb2f-f84b13ca58f2/data /var/folders/fw/yb0rznbj5r78cndxr6lkzkv80000gn/T/tmpvx56l3y1/output.tsv.biom /var/folders/fw/yb0rznbj5r78cndxr6lkzkv80000gn/T/tmpvx56l3y1/track.tsv /var/folders/fw/yb0rznbj5r78cndxr6lkzkv80000gn/T/tmpvx56l3y1 280 0 2.0 2 Inf consensus 1.0 1 250000 -1 32\n",
      "\n",
      "R version 3.5.1 (2018-07-02) \n",
      "Loading required package: Rcpp\n",
      "DADA2: 1.10.0 / Rcpp: 1.0.1 / RcppParallel: 4.4.2 \n",
      "1) Filtering ......................................................\n",
      "2) Learning Error Rates\n",
      "72587480 total bases in 259241 reads from 26 samples will be used for learning the error rates.\n",
      "3) Denoise samples ......................................................\n",
      "4) Remove chimeras (method = consensus)\n",
      "5) Report read numbers through the pipeline\n",
      "6) Write output\n",
      "\u001b[32mSaved FeatureTable[Frequency] to: xesto_reads/denoise/table.qza\u001b[0m\n",
      "\u001b[32mSaved FeatureData[Sequence] to: xesto_reads/denoise/representative_sequences.qza\u001b[0m\n",
      "\u001b[32mSaved SampleData[DADA2Stats] to: xesto_reads/denoise/denoising_stats.qza\u001b[0m\n"
     ]
    }
   ],
   "source": [
    "!qiime dada2 denoise-pyro --i-demultiplexed-seqs xesto_reads/reads.qza --p-trunc-len 280 --p-chimera-method consensus --output-dir xesto_reads/denoise --verbose\n"
   ]
  },
  {
   "cell_type": "code",
   "execution_count": null,
   "metadata": {},
   "outputs": [],
   "source": []
  },
  {
   "cell_type": "code",
   "execution_count": 6,
   "metadata": {},
   "outputs": [
    {
     "name": "stdout",
     "output_type": "stream",
     "text": [
      "\u001b[32mExported xesto_reads/denoise/denoising_stats.qza as DADA2StatsDirFmt to directory xesto-dada2-output-454\u001b[0m\r\n"
     ]
    }
   ],
   "source": [
    "!qiime tools export --input-path xesto_reads/denoise/denoising_stats.qza --output-path xesto-dada2-output-454\n"
   ]
  },
  {
   "cell_type": "code",
   "execution_count": 13,
   "metadata": {},
   "outputs": [
    {
     "name": "stdout",
     "output_type": "stream",
     "text": [
      "\u001b[32mSaved Visualization to: xesto-dada2-output-454/dada2_table_summary.qzv\u001b[0m\r\n"
     ]
    }
   ],
   "source": [
    "!qiime feature-table summarize --i-table xesto_reads/denoise/table.qza --o-visualization xesto-dada2-output-454/dada2_table_summary.qzv --m-sample-metadata-file xesto454_metadata.tsv \n"
   ]
  },
  {
   "cell_type": "code",
   "execution_count": 14,
   "metadata": {},
   "outputs": [
    {
     "name": "stdout",
     "output_type": "stream",
     "text": [
      "\u001b[32mSaved Visualization to: xesto-454-rep-seqs.qzv\u001b[0m\r\n"
     ]
    }
   ],
   "source": [
    "!qiime feature-table tabulate-seqs --i-data xesto_reads/denoise/representative_sequences.qza --o-visualization xesto-454-rep-seqs.qzv\n"
   ]
  },
  {
   "cell_type": "code",
   "execution_count": 15,
   "metadata": {},
   "outputs": [
    {
     "name": "stdout",
     "output_type": "stream",
     "text": [
      "Archive:  xesto-dada2-output-454/dada2_table_summary.qzv\n",
      "  inflating: a2dfb90d-64c6-4f2b-8ae6-82aea395ec9e/metadata.yaml  \n",
      "  inflating: a2dfb90d-64c6-4f2b-8ae6-82aea395ec9e/checksums.md5  \n",
      "  inflating: a2dfb90d-64c6-4f2b-8ae6-82aea395ec9e/VERSION  \n",
      "  inflating: a2dfb90d-64c6-4f2b-8ae6-82aea395ec9e/provenance/metadata.yaml  \n",
      "  inflating: a2dfb90d-64c6-4f2b-8ae6-82aea395ec9e/provenance/citations.bib  \n",
      "  inflating: a2dfb90d-64c6-4f2b-8ae6-82aea395ec9e/provenance/VERSION  \n",
      "  inflating: a2dfb90d-64c6-4f2b-8ae6-82aea395ec9e/provenance/artifacts/51137c05-0a3a-4718-bb2f-f84b13ca58f2/metadata.yaml  \n",
      "  inflating: a2dfb90d-64c6-4f2b-8ae6-82aea395ec9e/provenance/artifacts/51137c05-0a3a-4718-bb2f-f84b13ca58f2/citations.bib  \n",
      "  inflating: a2dfb90d-64c6-4f2b-8ae6-82aea395ec9e/provenance/artifacts/51137c05-0a3a-4718-bb2f-f84b13ca58f2/VERSION  \n",
      "  inflating: a2dfb90d-64c6-4f2b-8ae6-82aea395ec9e/provenance/artifacts/51137c05-0a3a-4718-bb2f-f84b13ca58f2/action/action.yaml  \n",
      "  inflating: a2dfb90d-64c6-4f2b-8ae6-82aea395ec9e/provenance/artifacts/4f2df193-bf41-4cd5-94f2-4b368eed0ac4/metadata.yaml  \n",
      "  inflating: a2dfb90d-64c6-4f2b-8ae6-82aea395ec9e/provenance/artifacts/4f2df193-bf41-4cd5-94f2-4b368eed0ac4/citations.bib  \n",
      "  inflating: a2dfb90d-64c6-4f2b-8ae6-82aea395ec9e/provenance/artifacts/4f2df193-bf41-4cd5-94f2-4b368eed0ac4/VERSION  \n",
      "  inflating: a2dfb90d-64c6-4f2b-8ae6-82aea395ec9e/provenance/artifacts/4f2df193-bf41-4cd5-94f2-4b368eed0ac4/action/action.yaml  \n",
      "  inflating: a2dfb90d-64c6-4f2b-8ae6-82aea395ec9e/provenance/action/action.yaml  \n",
      "  inflating: a2dfb90d-64c6-4f2b-8ae6-82aea395ec9e/provenance/action/sample_metadata.tsv  \n",
      "  inflating: a2dfb90d-64c6-4f2b-8ae6-82aea395ec9e/data/sample-frequency-detail.html  \n",
      "  inflating: a2dfb90d-64c6-4f2b-8ae6-82aea395ec9e/data/index.html  \n",
      "  inflating: a2dfb90d-64c6-4f2b-8ae6-82aea395ec9e/data/sample-frequencies.png  \n",
      "  inflating: a2dfb90d-64c6-4f2b-8ae6-82aea395ec9e/data/feature-frequency-detail.csv  \n",
      "  inflating: a2dfb90d-64c6-4f2b-8ae6-82aea395ec9e/data/sample-frequencies.pdf  \n",
      "  inflating: a2dfb90d-64c6-4f2b-8ae6-82aea395ec9e/data/feature-frequency-detail.html  \n",
      "  inflating: a2dfb90d-64c6-4f2b-8ae6-82aea395ec9e/data/sample-frequency-detail.csv  \n",
      "  inflating: a2dfb90d-64c6-4f2b-8ae6-82aea395ec9e/data/feature-frequencies.pdf  \n",
      "  inflating: a2dfb90d-64c6-4f2b-8ae6-82aea395ec9e/data/feature-frequencies.png  \n",
      "  inflating: a2dfb90d-64c6-4f2b-8ae6-82aea395ec9e/data/licenses/vega.txt  \n",
      "  inflating: a2dfb90d-64c6-4f2b-8ae6-82aea395ec9e/data/licenses/vega-embed.txt  \n",
      "  inflating: a2dfb90d-64c6-4f2b-8ae6-82aea395ec9e/data/css/spinkit.css  \n",
      "  inflating: a2dfb90d-64c6-4f2b-8ae6-82aea395ec9e/data/js/vega.min.js  \n",
      "  inflating: a2dfb90d-64c6-4f2b-8ae6-82aea395ec9e/data/js/vega-embed.min.js  \n",
      "  inflating: a2dfb90d-64c6-4f2b-8ae6-82aea395ec9e/data/q2templateassets/css/bootstrap.min.css  \n",
      "  inflating: a2dfb90d-64c6-4f2b-8ae6-82aea395ec9e/data/q2templateassets/css/tab-parent.css  \n",
      "  inflating: a2dfb90d-64c6-4f2b-8ae6-82aea395ec9e/data/q2templateassets/css/normalize.css  \n",
      "  inflating: a2dfb90d-64c6-4f2b-8ae6-82aea395ec9e/data/q2templateassets/js/parent.js  \n",
      "  inflating: a2dfb90d-64c6-4f2b-8ae6-82aea395ec9e/data/q2templateassets/js/bootstrap.min.js  \n",
      "  inflating: a2dfb90d-64c6-4f2b-8ae6-82aea395ec9e/data/q2templateassets/js/jquery-3.2.0.min.js  \n",
      "  inflating: a2dfb90d-64c6-4f2b-8ae6-82aea395ec9e/data/q2templateassets/js/child.js  \n",
      "  inflating: a2dfb90d-64c6-4f2b-8ae6-82aea395ec9e/data/q2templateassets/img/qiime2-rect-200.png  \n",
      "  inflating: a2dfb90d-64c6-4f2b-8ae6-82aea395ec9e/data/q2templateassets/fonts/glyphicons-halflings-regular.woff  \n",
      "  inflating: a2dfb90d-64c6-4f2b-8ae6-82aea395ec9e/data/q2templateassets/fonts/glyphicons-halflings-regular.eot  \n",
      "  inflating: a2dfb90d-64c6-4f2b-8ae6-82aea395ec9e/data/q2templateassets/fonts/glyphicons-halflings-regular.woff2  \n",
      "  inflating: a2dfb90d-64c6-4f2b-8ae6-82aea395ec9e/data/q2templateassets/fonts/glyphicons-halflings-regular.ttf  \n",
      "  inflating: a2dfb90d-64c6-4f2b-8ae6-82aea395ec9e/data/q2templateassets/fonts/glyphicons-halflings-regular.svg  \n"
     ]
    }
   ],
   "source": [
    "!unzip xesto-dada2-output-454/dada2_table_summary.qzv"
   ]
  },
  {
   "cell_type": "code",
   "execution_count": 16,
   "metadata": {},
   "outputs": [
    {
     "name": "stdout",
     "output_type": "stream",
     "text": [
      "Archive:  xesto-454-rep-seqs.qzv\n",
      "  inflating: 8fe5bef7-0e45-4631-b55d-e41c93b6e29d/metadata.yaml  \n",
      "  inflating: 8fe5bef7-0e45-4631-b55d-e41c93b6e29d/checksums.md5  \n",
      "  inflating: 8fe5bef7-0e45-4631-b55d-e41c93b6e29d/VERSION  \n",
      "  inflating: 8fe5bef7-0e45-4631-b55d-e41c93b6e29d/provenance/metadata.yaml  \n",
      "  inflating: 8fe5bef7-0e45-4631-b55d-e41c93b6e29d/provenance/citations.bib  \n",
      "  inflating: 8fe5bef7-0e45-4631-b55d-e41c93b6e29d/provenance/VERSION  \n",
      "  inflating: 8fe5bef7-0e45-4631-b55d-e41c93b6e29d/provenance/artifacts/51137c05-0a3a-4718-bb2f-f84b13ca58f2/metadata.yaml  \n",
      "  inflating: 8fe5bef7-0e45-4631-b55d-e41c93b6e29d/provenance/artifacts/51137c05-0a3a-4718-bb2f-f84b13ca58f2/citations.bib  \n",
      "  inflating: 8fe5bef7-0e45-4631-b55d-e41c93b6e29d/provenance/artifacts/51137c05-0a3a-4718-bb2f-f84b13ca58f2/VERSION  \n",
      "  inflating: 8fe5bef7-0e45-4631-b55d-e41c93b6e29d/provenance/artifacts/51137c05-0a3a-4718-bb2f-f84b13ca58f2/action/action.yaml  \n",
      "  inflating: 8fe5bef7-0e45-4631-b55d-e41c93b6e29d/provenance/artifacts/f843231c-4719-4c11-8501-9f6d4ead60eb/metadata.yaml  \n",
      "  inflating: 8fe5bef7-0e45-4631-b55d-e41c93b6e29d/provenance/artifacts/f843231c-4719-4c11-8501-9f6d4ead60eb/citations.bib  \n",
      "  inflating: 8fe5bef7-0e45-4631-b55d-e41c93b6e29d/provenance/artifacts/f843231c-4719-4c11-8501-9f6d4ead60eb/VERSION  \n",
      "  inflating: 8fe5bef7-0e45-4631-b55d-e41c93b6e29d/provenance/artifacts/f843231c-4719-4c11-8501-9f6d4ead60eb/action/action.yaml  \n",
      "  inflating: 8fe5bef7-0e45-4631-b55d-e41c93b6e29d/provenance/action/action.yaml  \n",
      "  inflating: 8fe5bef7-0e45-4631-b55d-e41c93b6e29d/data/index.html  \n",
      "  inflating: 8fe5bef7-0e45-4631-b55d-e41c93b6e29d/data/seven_number_summary.tsv  \n",
      "  inflating: 8fe5bef7-0e45-4631-b55d-e41c93b6e29d/data/sequences.fasta  \n",
      "  inflating: 8fe5bef7-0e45-4631-b55d-e41c93b6e29d/data/descriptive_stats.tsv  \n",
      "  inflating: 8fe5bef7-0e45-4631-b55d-e41c93b6e29d/data/js/tsorter.min.js  \n",
      "  inflating: 8fe5bef7-0e45-4631-b55d-e41c93b6e29d/data/q2templateassets/css/bootstrap.min.css  \n",
      "  inflating: 8fe5bef7-0e45-4631-b55d-e41c93b6e29d/data/q2templateassets/css/tab-parent.css  \n",
      "  inflating: 8fe5bef7-0e45-4631-b55d-e41c93b6e29d/data/q2templateassets/css/normalize.css  \n",
      "  inflating: 8fe5bef7-0e45-4631-b55d-e41c93b6e29d/data/q2templateassets/js/parent.js  \n",
      "  inflating: 8fe5bef7-0e45-4631-b55d-e41c93b6e29d/data/q2templateassets/js/bootstrap.min.js  \n",
      "  inflating: 8fe5bef7-0e45-4631-b55d-e41c93b6e29d/data/q2templateassets/js/jquery-3.2.0.min.js  \n",
      "  inflating: 8fe5bef7-0e45-4631-b55d-e41c93b6e29d/data/q2templateassets/js/child.js  \n",
      "  inflating: 8fe5bef7-0e45-4631-b55d-e41c93b6e29d/data/q2templateassets/img/qiime2-rect-200.png  \n",
      "  inflating: 8fe5bef7-0e45-4631-b55d-e41c93b6e29d/data/q2templateassets/fonts/glyphicons-halflings-regular.woff  \n",
      "  inflating: 8fe5bef7-0e45-4631-b55d-e41c93b6e29d/data/q2templateassets/fonts/glyphicons-halflings-regular.eot  \n",
      "  inflating: 8fe5bef7-0e45-4631-b55d-e41c93b6e29d/data/q2templateassets/fonts/glyphicons-halflings-regular.woff2  \n",
      "  inflating: 8fe5bef7-0e45-4631-b55d-e41c93b6e29d/data/q2templateassets/fonts/glyphicons-halflings-regular.ttf  \n",
      "  inflating: 8fe5bef7-0e45-4631-b55d-e41c93b6e29d/data/q2templateassets/fonts/glyphicons-halflings-regular.svg  \n"
     ]
    }
   ],
   "source": [
    "!unzip xesto-454-rep-seqs.qzv"
   ]
  },
  {
   "cell_type": "code",
   "execution_count": 17,
   "metadata": {},
   "outputs": [
    {
     "name": "stdout",
     "output_type": "stream",
     "text": [
      "\u001b[32mSaved Visualization to: xesto_reads/denoise/stats.qzv\u001b[0m\r\n"
     ]
    }
   ],
   "source": [
    "!qiime metadata tabulate \\\n",
    "  --m-input-file xesto_reads/denoise/denoising_stats.qza \\\n",
    "  --o-visualization xesto_reads/denoise/stats.qzv"
   ]
  },
  {
   "cell_type": "code",
   "execution_count": 18,
   "metadata": {},
   "outputs": [
    {
     "name": "stdout",
     "output_type": "stream",
     "text": [
      "Archive:  xesto_reads/denoise/stats.qzv\n",
      "  inflating: d3149294-6005-4bdf-b3d5-8d0d98353432/metadata.yaml  \n",
      "  inflating: d3149294-6005-4bdf-b3d5-8d0d98353432/checksums.md5  \n",
      "  inflating: d3149294-6005-4bdf-b3d5-8d0d98353432/VERSION  \n",
      "  inflating: d3149294-6005-4bdf-b3d5-8d0d98353432/provenance/metadata.yaml  \n",
      "  inflating: d3149294-6005-4bdf-b3d5-8d0d98353432/provenance/citations.bib  \n",
      "  inflating: d3149294-6005-4bdf-b3d5-8d0d98353432/provenance/VERSION  \n",
      "  inflating: d3149294-6005-4bdf-b3d5-8d0d98353432/provenance/artifacts/51137c05-0a3a-4718-bb2f-f84b13ca58f2/metadata.yaml  \n",
      "  inflating: d3149294-6005-4bdf-b3d5-8d0d98353432/provenance/artifacts/51137c05-0a3a-4718-bb2f-f84b13ca58f2/citations.bib  \n",
      "  inflating: d3149294-6005-4bdf-b3d5-8d0d98353432/provenance/artifacts/51137c05-0a3a-4718-bb2f-f84b13ca58f2/VERSION  \n",
      "  inflating: d3149294-6005-4bdf-b3d5-8d0d98353432/provenance/artifacts/51137c05-0a3a-4718-bb2f-f84b13ca58f2/action/action.yaml  \n",
      "  inflating: d3149294-6005-4bdf-b3d5-8d0d98353432/provenance/artifacts/86748c2c-4443-4c7b-a778-ae405f6896f5/metadata.yaml  \n",
      "  inflating: d3149294-6005-4bdf-b3d5-8d0d98353432/provenance/artifacts/86748c2c-4443-4c7b-a778-ae405f6896f5/citations.bib  \n",
      "  inflating: d3149294-6005-4bdf-b3d5-8d0d98353432/provenance/artifacts/86748c2c-4443-4c7b-a778-ae405f6896f5/VERSION  \n",
      "  inflating: d3149294-6005-4bdf-b3d5-8d0d98353432/provenance/artifacts/86748c2c-4443-4c7b-a778-ae405f6896f5/action/action.yaml  \n",
      "  inflating: d3149294-6005-4bdf-b3d5-8d0d98353432/provenance/action/action.yaml  \n",
      "  inflating: d3149294-6005-4bdf-b3d5-8d0d98353432/provenance/action/input.tsv  \n",
      "  inflating: d3149294-6005-4bdf-b3d5-8d0d98353432/data/index.html  \n",
      "  inflating: d3149294-6005-4bdf-b3d5-8d0d98353432/data/metadata.tsv  \n",
      "  inflating: d3149294-6005-4bdf-b3d5-8d0d98353432/data/css/datatables.min.css  \n",
      "  inflating: d3149294-6005-4bdf-b3d5-8d0d98353432/data/js/datatables.min.js  \n",
      "  inflating: d3149294-6005-4bdf-b3d5-8d0d98353432/data/q2templateassets/css/bootstrap.min.css  \n",
      "  inflating: d3149294-6005-4bdf-b3d5-8d0d98353432/data/q2templateassets/css/tab-parent.css  \n",
      "  inflating: d3149294-6005-4bdf-b3d5-8d0d98353432/data/q2templateassets/css/normalize.css  \n",
      "  inflating: d3149294-6005-4bdf-b3d5-8d0d98353432/data/q2templateassets/js/parent.js  \n",
      "  inflating: d3149294-6005-4bdf-b3d5-8d0d98353432/data/q2templateassets/js/bootstrap.min.js  \n",
      "  inflating: d3149294-6005-4bdf-b3d5-8d0d98353432/data/q2templateassets/js/jquery-3.2.0.min.js  \n",
      "  inflating: d3149294-6005-4bdf-b3d5-8d0d98353432/data/q2templateassets/js/child.js  \n",
      "  inflating: d3149294-6005-4bdf-b3d5-8d0d98353432/data/q2templateassets/img/qiime2-rect-200.png  \n",
      "  inflating: d3149294-6005-4bdf-b3d5-8d0d98353432/data/q2templateassets/fonts/glyphicons-halflings-regular.woff  \n",
      "  inflating: d3149294-6005-4bdf-b3d5-8d0d98353432/data/q2templateassets/fonts/glyphicons-halflings-regular.eot  \n",
      "  inflating: d3149294-6005-4bdf-b3d5-8d0d98353432/data/q2templateassets/fonts/glyphicons-halflings-regular.woff2  \n",
      "  inflating: d3149294-6005-4bdf-b3d5-8d0d98353432/data/q2templateassets/fonts/glyphicons-halflings-regular.ttf  \n",
      "  inflating: d3149294-6005-4bdf-b3d5-8d0d98353432/data/q2templateassets/fonts/glyphicons-halflings-regular.svg  \n"
     ]
    }
   ],
   "source": [
    "!unzip xesto_reads/denoise/stats.qzv"
   ]
  },
  {
   "cell_type": "code",
   "execution_count": 19,
   "metadata": {},
   "outputs": [
    {
     "name": "stdout",
     "output_type": "stream",
     "text": [
      "\u001b[32mSaved FeatureData[AlignedSequence] to: xesto_reads/aligned-rep-seqs.qza\u001b[0m\n",
      "\u001b[32mSaved FeatureData[AlignedSequence] to: xesto_reads/masked-alignment.qza\u001b[0m\n",
      "\u001b[32mSaved Phylogeny[Unrooted] to: xesto_reads/unrooted-tree.qza\u001b[0m\n",
      "\u001b[32mSaved Phylogeny[Rooted] to: xesto_reads/rooted-tree.qza\u001b[0m\n"
     ]
    }
   ],
   "source": [
    "#The remaining steps are some that I put together so I could develop a pipeline for later on.\n",
    "!qiime phylogeny align-to-tree-mafft-fasttree --i-sequences xesto_reads/denoise/representative_sequences.qza --o-alignment xesto_reads/aligned-rep-seqs.qza --o-masked-alignment xesto_reads/masked-alignment.qza --o-tree xesto_reads/unrooted-tree.qza --o-rooted-tree xesto_reads/rooted-tree.qza\n"
   ]
  },
  {
   "cell_type": "code",
   "execution_count": 20,
   "metadata": {},
   "outputs": [
    {
     "name": "stdout",
     "output_type": "stream",
     "text": [
      "\u001b[32mSaved FeatureData[Taxonomy] to: xesto_reads/xesto_454_taxonomy.qza\u001b[0m\r\n"
     ]
    }
   ],
   "source": [
    "#This generates a QZA containing taxonomy for running in R and such.\n",
    "!qiime feature-classifier classify-sklearn --i-classifier 515806-silva132-99-classifier.qza --i-reads xesto_reads/denoise/representative_sequences.qza --o-classification xesto_reads/xesto_454_taxonomy.qza\n"
   ]
  },
  {
   "cell_type": "code",
   "execution_count": 21,
   "metadata": {},
   "outputs": [
    {
     "name": "stdout",
     "output_type": "stream",
     "text": [
      "\u001b[32mSaved Visualization to: xesto_reads/xesto_454_taxa-bar-plots.qzv\u001b[0m\r\n"
     ]
    }
   ],
   "source": [
    "#Interactive barplots and tsvs for each taxonomy level. Not very elegant but great for a quick look.\n",
    "\n",
    "!qiime taxa barplot --i-table xesto_reads/denoise/table.qza --i-taxonomy xesto_reads/xesto_454_taxonomy.qza --m-metadata-file xesto454_metadata.tsv --o-visualization xesto_reads/xesto_454_taxa-bar-plots.qzv\n"
   ]
  },
  {
   "cell_type": "code",
   "execution_count": 22,
   "metadata": {
    "scrolled": true
   },
   "outputs": [
    {
     "name": "stdout",
     "output_type": "stream",
     "text": [
      "\u001b[32mSaved Visualization to: xesto_reads/xesto-454-blast_taxonomy.qzv\u001b[0m\r\n"
     ]
    }
   ],
   "source": [
    "!qiime metadata tabulate --m-input-file xesto_reads/xesto_454_taxonomy.qza --m-input-file xesto_reads/denoise/representative_sequences.qza --o-visualization xesto_reads/xesto-454-blast_taxonomy.qzv\n"
   ]
  },
  {
   "cell_type": "code",
   "execution_count": 23,
   "metadata": {},
   "outputs": [
    {
     "name": "stdout",
     "output_type": "stream",
     "text": [
      "Archive:  xesto_reads/xesto_454_taxa-bar-plots.qzv\n",
      "  inflating: b5937a5a-1e5f-4789-98fe-39a826a03bd7/metadata.yaml  \n",
      "  inflating: b5937a5a-1e5f-4789-98fe-39a826a03bd7/checksums.md5  \n",
      "  inflating: b5937a5a-1e5f-4789-98fe-39a826a03bd7/VERSION  \n",
      "  inflating: b5937a5a-1e5f-4789-98fe-39a826a03bd7/provenance/metadata.yaml  \n",
      "  inflating: b5937a5a-1e5f-4789-98fe-39a826a03bd7/provenance/citations.bib  \n",
      "  inflating: b5937a5a-1e5f-4789-98fe-39a826a03bd7/provenance/VERSION  \n",
      "  inflating: b5937a5a-1e5f-4789-98fe-39a826a03bd7/provenance/artifacts/5491871c-f9ff-4dee-82fd-04a228f6d7f9/metadata.yaml  \n",
      "  inflating: b5937a5a-1e5f-4789-98fe-39a826a03bd7/provenance/artifacts/5491871c-f9ff-4dee-82fd-04a228f6d7f9/citations.bib  \n",
      "  inflating: b5937a5a-1e5f-4789-98fe-39a826a03bd7/provenance/artifacts/5491871c-f9ff-4dee-82fd-04a228f6d7f9/VERSION  \n",
      "  inflating: b5937a5a-1e5f-4789-98fe-39a826a03bd7/provenance/artifacts/5491871c-f9ff-4dee-82fd-04a228f6d7f9/action/action.yaml  \n",
      "  inflating: b5937a5a-1e5f-4789-98fe-39a826a03bd7/provenance/artifacts/bc05fa9b-e271-403a-88a6-8731d05f6dd9/metadata.yaml  \n",
      "  inflating: b5937a5a-1e5f-4789-98fe-39a826a03bd7/provenance/artifacts/bc05fa9b-e271-403a-88a6-8731d05f6dd9/citations.bib  \n",
      "  inflating: b5937a5a-1e5f-4789-98fe-39a826a03bd7/provenance/artifacts/bc05fa9b-e271-403a-88a6-8731d05f6dd9/VERSION  \n",
      "  inflating: b5937a5a-1e5f-4789-98fe-39a826a03bd7/provenance/artifacts/bc05fa9b-e271-403a-88a6-8731d05f6dd9/action/action.yaml  \n",
      "  inflating: b5937a5a-1e5f-4789-98fe-39a826a03bd7/provenance/artifacts/51137c05-0a3a-4718-bb2f-f84b13ca58f2/metadata.yaml  \n",
      "  inflating: b5937a5a-1e5f-4789-98fe-39a826a03bd7/provenance/artifacts/51137c05-0a3a-4718-bb2f-f84b13ca58f2/citations.bib  \n",
      "  inflating: b5937a5a-1e5f-4789-98fe-39a826a03bd7/provenance/artifacts/51137c05-0a3a-4718-bb2f-f84b13ca58f2/VERSION  \n",
      "  inflating: b5937a5a-1e5f-4789-98fe-39a826a03bd7/provenance/artifacts/51137c05-0a3a-4718-bb2f-f84b13ca58f2/action/action.yaml  \n",
      "  inflating: b5937a5a-1e5f-4789-98fe-39a826a03bd7/provenance/artifacts/e5d61b2f-f71a-4dca-b63d-9d98c2730f35/metadata.yaml  \n",
      "  inflating: b5937a5a-1e5f-4789-98fe-39a826a03bd7/provenance/artifacts/e5d61b2f-f71a-4dca-b63d-9d98c2730f35/citations.bib  \n",
      "  inflating: b5937a5a-1e5f-4789-98fe-39a826a03bd7/provenance/artifacts/e5d61b2f-f71a-4dca-b63d-9d98c2730f35/VERSION  \n",
      "  inflating: b5937a5a-1e5f-4789-98fe-39a826a03bd7/provenance/artifacts/e5d61b2f-f71a-4dca-b63d-9d98c2730f35/action/action.yaml  \n",
      "  inflating: b5937a5a-1e5f-4789-98fe-39a826a03bd7/provenance/artifacts/2626fce4-8fb5-4a8b-9af5-75c934971549/metadata.yaml  \n",
      "  inflating: b5937a5a-1e5f-4789-98fe-39a826a03bd7/provenance/artifacts/2626fce4-8fb5-4a8b-9af5-75c934971549/citations.bib  \n",
      "  inflating: b5937a5a-1e5f-4789-98fe-39a826a03bd7/provenance/artifacts/2626fce4-8fb5-4a8b-9af5-75c934971549/VERSION  \n",
      "  inflating: b5937a5a-1e5f-4789-98fe-39a826a03bd7/provenance/artifacts/2626fce4-8fb5-4a8b-9af5-75c934971549/action/action.yaml  \n",
      "  inflating: b5937a5a-1e5f-4789-98fe-39a826a03bd7/provenance/artifacts/f843231c-4719-4c11-8501-9f6d4ead60eb/metadata.yaml  \n",
      "  inflating: b5937a5a-1e5f-4789-98fe-39a826a03bd7/provenance/artifacts/f843231c-4719-4c11-8501-9f6d4ead60eb/citations.bib  \n",
      "  inflating: b5937a5a-1e5f-4789-98fe-39a826a03bd7/provenance/artifacts/f843231c-4719-4c11-8501-9f6d4ead60eb/VERSION  \n",
      "  inflating: b5937a5a-1e5f-4789-98fe-39a826a03bd7/provenance/artifacts/f843231c-4719-4c11-8501-9f6d4ead60eb/action/action.yaml  \n",
      "  inflating: b5937a5a-1e5f-4789-98fe-39a826a03bd7/provenance/artifacts/4f2df193-bf41-4cd5-94f2-4b368eed0ac4/metadata.yaml  \n",
      "  inflating: b5937a5a-1e5f-4789-98fe-39a826a03bd7/provenance/artifacts/4f2df193-bf41-4cd5-94f2-4b368eed0ac4/citations.bib  \n",
      "  inflating: b5937a5a-1e5f-4789-98fe-39a826a03bd7/provenance/artifacts/4f2df193-bf41-4cd5-94f2-4b368eed0ac4/VERSION  \n",
      "  inflating: b5937a5a-1e5f-4789-98fe-39a826a03bd7/provenance/artifacts/4f2df193-bf41-4cd5-94f2-4b368eed0ac4/action/action.yaml  \n",
      "  inflating: b5937a5a-1e5f-4789-98fe-39a826a03bd7/provenance/artifacts/85df84b8-a852-4b3f-a07a-ae6a5b6a2965/metadata.yaml  \n",
      "  inflating: b5937a5a-1e5f-4789-98fe-39a826a03bd7/provenance/artifacts/85df84b8-a852-4b3f-a07a-ae6a5b6a2965/citations.bib  \n",
      "  inflating: b5937a5a-1e5f-4789-98fe-39a826a03bd7/provenance/artifacts/85df84b8-a852-4b3f-a07a-ae6a5b6a2965/VERSION  \n",
      "  inflating: b5937a5a-1e5f-4789-98fe-39a826a03bd7/provenance/artifacts/85df84b8-a852-4b3f-a07a-ae6a5b6a2965/action/action.yaml  \n",
      "  inflating: b5937a5a-1e5f-4789-98fe-39a826a03bd7/provenance/action/action.yaml  \n",
      "  inflating: b5937a5a-1e5f-4789-98fe-39a826a03bd7/provenance/action/metadata.tsv  \n",
      "  inflating: b5937a5a-1e5f-4789-98fe-39a826a03bd7/data/index.html  \n",
      "  inflating: b5937a5a-1e5f-4789-98fe-39a826a03bd7/data/level-2.csv  \n",
      "  inflating: b5937a5a-1e5f-4789-98fe-39a826a03bd7/data/level-3.csv  \n",
      "  inflating: b5937a5a-1e5f-4789-98fe-39a826a03bd7/data/level-1.csv  \n",
      "  inflating: b5937a5a-1e5f-4789-98fe-39a826a03bd7/data/level-2.jsonp  \n",
      "  inflating: b5937a5a-1e5f-4789-98fe-39a826a03bd7/data/level-6.jsonp  \n",
      "  inflating: b5937a5a-1e5f-4789-98fe-39a826a03bd7/data/level-4.csv  \n",
      "  inflating: b5937a5a-1e5f-4789-98fe-39a826a03bd7/data/level-5.csv  \n",
      "  inflating: b5937a5a-1e5f-4789-98fe-39a826a03bd7/data/level-7.csv  \n",
      "  inflating: b5937a5a-1e5f-4789-98fe-39a826a03bd7/data/level-6.csv  \n",
      "  inflating: b5937a5a-1e5f-4789-98fe-39a826a03bd7/data/level-4.jsonp  \n",
      "  inflating: b5937a5a-1e5f-4789-98fe-39a826a03bd7/data/level-3.jsonp  \n",
      "  inflating: b5937a5a-1e5f-4789-98fe-39a826a03bd7/data/level-1.jsonp  \n",
      "  inflating: b5937a5a-1e5f-4789-98fe-39a826a03bd7/data/level-5.jsonp  \n",
      "  inflating: b5937a5a-1e5f-4789-98fe-39a826a03bd7/data/level-7.jsonp  \n",
      "  inflating: b5937a5a-1e5f-4789-98fe-39a826a03bd7/data/dist/d3-license.txt  \n",
      "  inflating: b5937a5a-1e5f-4789-98fe-39a826a03bd7/data/dist/bundle.js  \n",
      "  inflating: b5937a5a-1e5f-4789-98fe-39a826a03bd7/data/dist/d3-scale-chromatic-license.txt  \n",
      "  inflating: b5937a5a-1e5f-4789-98fe-39a826a03bd7/data/dist/vendor.bundle.js  \n",
      "  inflating: b5937a5a-1e5f-4789-98fe-39a826a03bd7/data/dist/thenBy-license.txt  \n",
      "  inflating: b5937a5a-1e5f-4789-98fe-39a826a03bd7/data/q2templateassets/css/bootstrap.min.css  \n",
      "  inflating: b5937a5a-1e5f-4789-98fe-39a826a03bd7/data/q2templateassets/css/tab-parent.css  \n",
      "  inflating: b5937a5a-1e5f-4789-98fe-39a826a03bd7/data/q2templateassets/css/normalize.css  \n",
      "  inflating: b5937a5a-1e5f-4789-98fe-39a826a03bd7/data/q2templateassets/js/parent.js  \n",
      "  inflating: b5937a5a-1e5f-4789-98fe-39a826a03bd7/data/q2templateassets/js/bootstrap.min.js  \n",
      "  inflating: b5937a5a-1e5f-4789-98fe-39a826a03bd7/data/q2templateassets/js/jquery-3.2.0.min.js  \n",
      "  inflating: b5937a5a-1e5f-4789-98fe-39a826a03bd7/data/q2templateassets/js/child.js  \n",
      "  inflating: b5937a5a-1e5f-4789-98fe-39a826a03bd7/data/q2templateassets/img/qiime2-rect-200.png  \n",
      "  inflating: b5937a5a-1e5f-4789-98fe-39a826a03bd7/data/q2templateassets/fonts/glyphicons-halflings-regular.woff  \n",
      "  inflating: b5937a5a-1e5f-4789-98fe-39a826a03bd7/data/q2templateassets/fonts/glyphicons-halflings-regular.eot  \n",
      "  inflating: b5937a5a-1e5f-4789-98fe-39a826a03bd7/data/q2templateassets/fonts/glyphicons-halflings-regular.woff2  \n",
      "  inflating: b5937a5a-1e5f-4789-98fe-39a826a03bd7/data/q2templateassets/fonts/glyphicons-halflings-regular.ttf  \n",
      "  inflating: b5937a5a-1e5f-4789-98fe-39a826a03bd7/data/q2templateassets/fonts/glyphicons-halflings-regular.svg  \n"
     ]
    }
   ],
   "source": [
    "!unzip xesto_reads/xesto_454_taxa-bar-plots.qzv\n"
   ]
  },
  {
   "cell_type": "code",
   "execution_count": 24,
   "metadata": {},
   "outputs": [],
   "source": [
    "!mkdir phyloseq"
   ]
  },
  {
   "cell_type": "code",
   "execution_count": 25,
   "metadata": {},
   "outputs": [
    {
     "name": "stdout",
     "output_type": "stream",
     "text": [
      "\u001b[32mExported xesto_reads/denoise/table.qza as BIOMV210DirFmt to directory phyloseq\u001b[0m\r\n"
     ]
    }
   ],
   "source": [
    "!qiime tools export --input-path xesto_reads/denoise/table.qza --output-path phyloseq"
   ]
  },
  {
   "cell_type": "code",
   "execution_count": null,
   "metadata": {},
   "outputs": [],
   "source": [
    "!biom convert -i phyloseq/feature-table.biom -o phyloseq/otu_table.txt --to-tsv"
   ]
  },
  {
   "cell_type": "code",
   "execution_count": null,
   "metadata": {},
   "outputs": [],
   "source": [
    "!qiime tools export --input-path xesto_reads/xesto_454_taxonomy.qza --output-path phyloseq"
   ]
  },
  {
   "cell_type": "code",
   "execution_count": null,
   "metadata": {},
   "outputs": [],
   "source": [
    "!qiime tools export --input-path xesto_reads/unrooted-tree.qza --output-path phyloseq"
   ]
  },
  {
   "cell_type": "code",
   "execution_count": null,
   "metadata": {},
   "outputs": [],
   "source": [
    "!qiime feature-table filter-samples --i-table xesto_reads/denoise/table.qza --m-metadata-file xesto454_metadata2.tsv --p-where \"Description='healthy_no_disease'\" --o-filtered-table control-core.qza\n"
   ]
  },
  {
   "cell_type": "code",
   "execution_count": null,
   "metadata": {},
   "outputs": [],
   "source": [
    "!unzip control-core.qza"
   ]
  },
  {
   "cell_type": "code",
   "execution_count": null,
   "metadata": {},
   "outputs": [],
   "source": [
    "!qiime feature-table filter-samples --i-table xesto_reads/denoise/table.qza --m-metadata-file xesto454_metadata2.tsv --p-where \"Type='HoD'\" --o-filtered-table HoD-core.qza\n"
   ]
  },
  {
   "cell_type": "code",
   "execution_count": null,
   "metadata": {},
   "outputs": [],
   "source": [
    "!unzip HoD-core.qza"
   ]
  },
  {
   "cell_type": "code",
   "execution_count": null,
   "metadata": {},
   "outputs": [],
   "source": [
    "!qiime feature-table filter-samples --i-table xesto_reads/denoise/table.qza --m-metadata-file xesto454_metadata2.tsv --p-where \"Description='diseased_tissue'\" --o-filtered-table disease-core.qza\n"
   ]
  },
  {
   "cell_type": "code",
   "execution_count": null,
   "metadata": {},
   "outputs": [],
   "source": [
    "!unzip disease-core.qza"
   ]
  },
  {
   "cell_type": "code",
   "execution_count": null,
   "metadata": {},
   "outputs": [],
   "source": [
    "!qiime feature-table filter-samples --i-table xesto_reads/denoise/table.qza --m-metadata-file xesto454_metadata2.tsv --p-where \"Description='orange_band_tissue'\" --o-filtered-table orangeband-core.qza\n"
   ]
  },
  {
   "cell_type": "code",
   "execution_count": null,
   "metadata": {},
   "outputs": [],
   "source": [
    "!unzip orangeband-core.qza"
   ]
  },
  {
   "cell_type": "code",
   "execution_count": null,
   "metadata": {},
   "outputs": [],
   "source": [
    "!qiime feature-table filter-seqs --i-data xesto_reads/denoise/representative_sequences.qza --i-table orangeband-core.qza --p-where \"Description='orange_band_tissue'\" --o-filtered-data orangeband-seqs.qza\n"
   ]
  },
  {
   "cell_type": "code",
   "execution_count": null,
   "metadata": {},
   "outputs": [],
   "source": [
    "!unzip orangeband-seqs.qza"
   ]
  },
  {
   "cell_type": "code",
   "execution_count": null,
   "metadata": {},
   "outputs": [],
   "source": [
    "!qiime feature-table filter-seqs --i-data xesto_reads/denoise/representative_sequences.qza --i-table disease-core.qza --p-where \"Description='diseased_tissue'\" --o-filtered-data disease-seqs.qza\n"
   ]
  },
  {
   "cell_type": "code",
   "execution_count": null,
   "metadata": {},
   "outputs": [],
   "source": [
    "!unzip disease-seqs.qza"
   ]
  },
  {
   "cell_type": "code",
   "execution_count": null,
   "metadata": {},
   "outputs": [],
   "source": [
    "!qiime feature-table filter-seqs --i-data xesto_reads/denoise/representative_sequences.qza --i-table HoD-core.qza --p-where \"Type='HoD'\" --o-filtered-data HoD-seqs.qza\n"
   ]
  },
  {
   "cell_type": "code",
   "execution_count": null,
   "metadata": {},
   "outputs": [],
   "source": [
    "!unzip HoD-seqs.qza"
   ]
  },
  {
   "cell_type": "code",
   "execution_count": null,
   "metadata": {},
   "outputs": [],
   "source": [
    "!qiime feature-table filter-seqs --i-data xesto_reads/denoise/representative_sequences.qza --i-table control-core.qza --p-where \"Description='healthy_no_disease'\" --o-filtered-data control-seqs.qza\n"
   ]
  },
  {
   "cell_type": "code",
   "execution_count": null,
   "metadata": {},
   "outputs": [],
   "source": [
    "!unzip control-seqs.qza"
   ]
  },
  {
   "cell_type": "code",
   "execution_count": null,
   "metadata": {},
   "outputs": [],
   "source": [
    "!mkdir control; mkdir orangeband; mkdir disease; mkdir HoD"
   ]
  },
  {
   "cell_type": "code",
   "execution_count": null,
   "metadata": {},
   "outputs": [],
   "source": [
    "!qiime phylogeny align-to-tree-mafft-fasttree --i-sequences control-seqs.qza --o-alignment control/aligned-rep-seqs.qza --o-masked-alignment control/masked-alignment.qza --o-tree control/unrooted-tree.qza --o-rooted-tree control/rooted-tree.qza\n"
   ]
  },
  {
   "cell_type": "code",
   "execution_count": null,
   "metadata": {},
   "outputs": [],
   "source": [
    "!qiime phylogeny align-to-tree-mafft-fasttree --i-sequences HoD-seqs.qza --o-alignment HoD/aligned-rep-seqs.qza --o-masked-alignment HoD/masked-alignment.qza --o-tree HoD/unrooted-tree.qza --o-rooted-tree HoD/rooted-tree.qza\n"
   ]
  },
  {
   "cell_type": "code",
   "execution_count": null,
   "metadata": {},
   "outputs": [],
   "source": [
    "!qiime phylogeny align-to-tree-mafft-fasttree --i-sequences disease-seqs.qza --o-alignment disease/aligned-rep-seqs.qza --o-masked-alignment disease/masked-alignment.qza --o-tree disease/unrooted-tree.qza --o-rooted-tree disease/rooted-tree.qza\n"
   ]
  },
  {
   "cell_type": "code",
   "execution_count": null,
   "metadata": {},
   "outputs": [],
   "source": [
    "!qiime phylogeny align-to-tree-mafft-fasttree --i-sequences orangeband-seqs.qza --o-alignment orangeband/aligned-rep-seqs.qza --o-masked-alignment orangeband/masked-alignment.qza --o-tree orangeband/unrooted-tree.qza --o-rooted-tree orangeband/rooted-tree.qza\n"
   ]
  },
  {
   "cell_type": "code",
   "execution_count": null,
   "metadata": {},
   "outputs": [],
   "source": [
    "!qiime feature-classifier classify-sklearn --i-classifier 515806-silva132-99-classifier.qza --i-reads control-seqs.qza --o-classification control/taxa.qza\n"
   ]
  },
  {
   "cell_type": "code",
   "execution_count": null,
   "metadata": {},
   "outputs": [],
   "source": [
    "!qiime feature-classifier classify-sklearn --i-classifier 515806-silva132-99-classifier.qza --i-reads HoD-seqs.qza --o-classification HoD/taxa.qza\n"
   ]
  },
  {
   "cell_type": "code",
   "execution_count": null,
   "metadata": {},
   "outputs": [],
   "source": [
    "!qiime feature-classifier classify-sklearn --i-classifier 515806-silva132-99-classifier.qza --i-reads disease-seqs.qza --o-classification disease/taxa.qza\n"
   ]
  },
  {
   "cell_type": "code",
   "execution_count": null,
   "metadata": {},
   "outputs": [],
   "source": [
    "!qiime feature-classifier classify-sklearn --i-classifier 515806-silva132-99-classifier.qza --i-reads orangeband-seqs.qza --o-classification orangeband/taxa.qza\n"
   ]
  }
 ],
 "metadata": {
  "kernelspec": {
   "display_name": "Python 3",
   "language": "python",
   "name": "python3"
  },
  "language_info": {
   "codemirror_mode": {
    "name": "ipython",
    "version": 3
   },
   "file_extension": ".py",
   "mimetype": "text/x-python",
   "name": "python",
   "nbconvert_exporter": "python",
   "pygments_lexer": "ipython3",
   "version": "3.6.7"
  }
 },
 "nbformat": 4,
 "nbformat_minor": 2
}
